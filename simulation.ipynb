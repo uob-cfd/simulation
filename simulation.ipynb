{
 "cells": [
  {
   "cell_type": "markdown",
   "metadata": {},
   "source": [
    "# Simulation exercises"
   ]
  },
  {
   "cell_type": "code",
   "execution_count": null,
   "metadata": {},
   "outputs": [],
   "source": [
    "# Don't change this cell; just run it.\n",
    "import numpy as np  # The array library.\n",
    "\n",
    "# The OKpy testing system.\n",
    "from client.api.notebook import Notebook\n",
    "ok = Notebook('simulation.ok')"
   ]
  },
  {
   "cell_type": "markdown",
   "metadata": {},
   "source": [
    "## The crooked Euro\n",
    "\n",
    "With thanks to [Allen Downey](https://tinyurl.com/inference3), and [David\n",
    "MacKay](http://www.inference.org.uk/mackay).\n",
    "\n",
    "Some people were worried that the [Euro coin was asymmetric](https://www.theguardian.com/world/2002/jan/04/euro.eu2).  A quick test, described in that page found that:\n",
    "\n",
    "> When tossed 250 times, the one euro coin came up heads 139 times and tails\n",
    "> 111.\n",
    "\n",
    "Our *observed statistic* is therefore the 139 heads out of 250.\n",
    "\n",
    "Call one *trial* - the result of 250 coin tosses.\n",
    "\n",
    "Complete the code below to estimate the probability that this could have happened by chance."
   ]
  },
  {
   "cell_type": "code",
   "execution_count": null,
   "metadata": {},
   "outputs": [],
   "source": [
    "# Array to store the number of heads on each trial.\n",
    "counts = np.zeros(10000)\n",
    "for i in np.arange(10000):\n",
    "    # Each indented statement gets run on every trial\n",
    "    tosses = np.random.randint(0, 2, size=...)\n",
    "    n_heads = ...\n",
    "    counts[i] = n_heads\n",
    "p_crooked = np.count_nonzero(... >= ... ) / 10000\n",
    "p_crooked"
   ]
  },
  {
   "cell_type": "code",
   "execution_count": null,
   "metadata": {},
   "outputs": [],
   "source": [
    "_ = ok.grade('q_p_crooked')"
   ]
  },
  {
   "cell_type": "markdown",
   "metadata": {},
   "source": [
    "## Penalty shootout technique\n",
    "\n",
    "Jen is the penalty taker for her football team.\n",
    "\n",
    "She's been doing this for a long time.  She thinks she normally has a 80%\n",
    "chance of scoring.\n",
    "\n",
    "In the last 15 penalties she has taken, she has been trying a new technique.\n",
    "She scored on all 15 penalties.\n",
    "\n",
    "How certain can she be that this would not have happened, using the old\n",
    "technique?\n",
    "\n",
    "Hint: consider `np.random.randint`.  Read the help with `np.random.randint?`."
   ]
  },
  {
   "cell_type": "code",
   "execution_count": null,
   "metadata": {},
   "outputs": [],
   "source": [
    "#- Calculate the probability of Jen scoring 15 out of 15 penalties.\n",
    "counts = np.zeros(10000)\n",
    "for i in np.arange(10000):\n",
    "    # Each indented statement gets run on every trial\n",
    "    shots = np.random.randint(..., ..., ...)\n",
    "    scores = np.count_nonzero(...)\n",
    "    counts[i] = scores\n",
    "p_15_of_15 = np.count_nonzero(... == ...) / 10000\n",
    "p_15_of_15"
   ]
  },
  {
   "cell_type": "code",
   "execution_count": null,
   "metadata": {},
   "outputs": [],
   "source": [
    "_ = ok.grade('q_1_penalties')"
   ]
  },
  {
   "cell_type": "markdown",
   "metadata": {},
   "source": [
    "## Aim big\n",
    "\n",
    "John is playing Monopoly.  His piece, the top hat, is sitting in a really bad\n",
    "spot, just in front of some expensive hotels.  He is about to roll the two\n",
    "6-sided die.  He needs a score of 10 or more to skip over the hotels.  What\n",
    "are John's chances?\n",
    "\n",
    "Solve by simulation.\n",
    "\n",
    "Hint: consider `np.random.randint` again."
   ]
  },
  {
   "cell_type": "code",
   "execution_count": null,
   "metadata": {},
   "outputs": [],
   "source": [
    "#- Calculate the probability of getting 10 or more with two dice.\n",
    "counts = np.zeros(10000)\n",
    "for i in np.arange(10000):\n",
    "    dice = np.random.randint(..., ..., ...)\n",
    "    score = ...\n",
    "    counts[i] = score\n",
    "p_10_or_more = np.count_nonzero(...) / ...\n",
    "p_10_or_more"
   ]
  },
  {
   "cell_type": "code",
   "execution_count": null,
   "metadata": {},
   "outputs": [],
   "source": [
    "_ = ok.grade('q_2_monopoly')"
   ]
  },
  {
   "cell_type": "markdown",
   "metadata": {},
   "source": [
    "## Blackjack\n",
    "\n",
    "Given any three random playing cards, what is the chance that the ranks of the\n",
    "three cards add up to 21?\n",
    "\n",
    "10, jack, queen and king all count as 10.  For example, one way of getting 21\n",
    "is a seven, a four and a king.\n"
   ]
  },
  {
   "cell_type": "markdown",
   "metadata": {},
   "source": [
    "### Simple version\n",
    "\n",
    "Assume the three cards are each dealt from the top of a full shuffled deck.\n",
    "Therefore, the procedure is:\n",
    "\n",
    "* you shuffle, look at the top card, record the rank, you put it back.\n",
    "* repeat twice more.\n",
    "\n",
    "Assume that the ace counts as 1.  What are the chances of getting\n",
    "a total rank of 21?\n",
    "\n",
    "Hint: look at the array `ranks` in the code cell below.\n",
    "\n",
    "Investigate `np.random.choice` to use this array for the problem."
   ]
  },
  {
   "cell_type": "code",
   "execution_count": null,
   "metadata": {},
   "outputs": [],
   "source": [
    "# Ranks of all the cards in one suit.\n",
    "ranks = np.array([1, 2, 3, 4, 5, 6, 7, 8, 9, 10, 10, 10, 10])\n",
    "p_total_21 = ...\n",
    "p_total_21"
   ]
  },
  {
   "cell_type": "code",
   "execution_count": null,
   "metadata": {},
   "outputs": [],
   "source": [
    "_ = ok.grade('q_3_simple_blackjack')"
   ]
  },
  {
   "cell_type": "markdown",
   "metadata": {},
   "source": [
    "## Less simple version\n",
    "\n",
    "Assume the cards are drawn as they were for the problem above.\n",
    "\n",
    "Now the ace can count as 1 or as 11, whichever gives a total of 21.  To make things a bit simpler, the two options are:\n",
    "\n",
    "* all aces in a hand count as 1, OR\n",
    "* all aces in a hand count as 11.\n",
    "\n",
    "Your job is to choose the option from the list above, that gives you 21, if that is possible.\n",
    "\n",
    "For example, if you have a hand (Ace, Ace, 9), then your two options are ranks\n",
    "(1, 1, 9) (for a total of 21) or (11, 11, 9) (for a total of 31), in which\n",
    "case you would choose the ace = 1 rank.  On the other hand, you might have\n",
    "(Ace, 2, 8) in which case you would chose the ace = 11 rank.  In this\n",
    "simplified case (Ace, Ace, 8) can only give 10 (for ace=1) or 30 (for ace=11).\n",
    "\n",
    "In this situation, what are the chances of a total rank of 21?\n",
    "\n",
    "The hints below are for one way of solving this case.   There are other ways of solving this case; feel free to chose the method you prefer.\n",
    "\n",
    "*Hint 1*: you can change values of 1 to 11 like this:"
   ]
  },
  {
   "cell_type": "code",
   "execution_count": null,
   "metadata": {},
   "outputs": [],
   "source": [
    "# Make an example array\n",
    "some_cards = np.array([1, 3, 5, 1, 2])\n",
    "some_cards"
   ]
  },
  {
   "cell_type": "code",
   "execution_count": null,
   "metadata": {},
   "outputs": [],
   "source": [
    "# Make a Boolean array that has True for positions where some_cards == 1\n",
    "card_eq_1 = some_cards == 1\n",
    "card_eq_1"
   ]
  },
  {
   "cell_type": "code",
   "execution_count": null,
   "metadata": {},
   "outputs": [],
   "source": [
    "# In the found positions, change the value to 11\n",
    "some_cards[card_eq_1] = 11\n",
    "some_cards"
   ]
  },
  {
   "cell_type": "markdown",
   "metadata": {},
   "source": [
    "*Hint 2*: You might want to use this kind of trick more than once in your\n",
    "solution.\n",
    "\n",
    "*Hint 3*: You might consider having two arrays of results for each hand, one for the case where aces count as 1 and the other for case where aces count as 11, like this:"
   ]
  },
  {
   "cell_type": "code",
   "execution_count": null,
   "metadata": {},
   "outputs": [],
   "source": [
    "# Initialize result arrays.\n",
    "rank_totals_1 = np.zeros(10000)\n",
    "rank_totals_11 = np.zeros(10000)"
   ]
  },
  {
   "cell_type": "markdown",
   "metadata": {},
   "source": [
    "Here is the cell for your solution:"
   ]
  },
  {
   "cell_type": "code",
   "execution_count": null,
   "metadata": {},
   "outputs": [],
   "source": [
    "p_flex_total_21 = ...\n",
    "p_flex_total_21"
   ]
  },
  {
   "cell_type": "code",
   "execution_count": null,
   "metadata": {},
   "outputs": [],
   "source": [
    "_ = ok.grade('q_4_flexi_blackjack')"
   ]
  },
  {
   "cell_type": "markdown",
   "metadata": {},
   "source": [
    "You may have found that allowing aces to count as 11 didn't greatly improve your chances of getting 21.  Why is that?"
   ]
  },
  {
   "cell_type": "markdown",
   "metadata": {},
   "source": [
    "## Done.\n",
    "\n",
    "Congratulations, you're done with the assignment!  Be sure to:\n",
    "\n",
    "- **run all the tests** (the next cell has a shortcut for that),\n",
    "- **Save and Checkpoint** from the `File` menu,"
   ]
  },
  {
   "cell_type": "code",
   "execution_count": null,
   "metadata": {},
   "outputs": [],
   "source": [
    "# For your convenience, you can run this cell to run all the tests at once!\n",
    "import os\n",
    "_ = [ok.grade(q[:-3]) for q in os.listdir(\"tests\") if q.startswith('q')]"
   ]
  }
 ],
 "metadata": {
  "jupytext": {
   "notebook_metadata_filter": "all,-language_info",
   "split_at_heading": true,
   "text_representation": {
    "extension": ".Rmd",
    "format_name": "rmarkdown",
    "format_version": "1.1",
    "jupytext_version": "1.2.4"
   }
  },
  "kernelspec": {
   "display_name": "Python 3",
   "language": "python",
   "name": "python3"
  }
 },
 "nbformat": 4,
 "nbformat_minor": 4
}
